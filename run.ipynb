# colab 사용시
from google.colab import drive
drive.mount('/content/drive')

# 자신의 경로로 이동
cd [경로 지정]

# colab에서 사용시, requirements.txt 별도 설치 안해도 됨
# wget만 설치하면 실행 됨
!pip install wget

# 실행하기
!python main.py --template 'train_bert'
